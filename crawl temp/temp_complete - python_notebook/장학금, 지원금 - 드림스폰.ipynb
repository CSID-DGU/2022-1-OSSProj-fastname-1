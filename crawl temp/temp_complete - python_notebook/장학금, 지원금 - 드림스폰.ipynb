{
 "cells": [
  {
   "cell_type": "code",
   "execution_count": 1,
   "metadata": {},
   "outputs": [],
   "source": [
    "import pandas as pd\n",
    "import numpy as np\n",
    "\n",
    "import requests\n",
    "from bs4 import BeautifulSoup\n",
    "import urllib.request\n",
    "import ssl\n",
    "import datetime\n",
    "from datetime import date, timedelta\n",
    "from dateutil.parser import parse\n",
    "from urllib.request import urlopen\n",
    "context=ssl._create_unverified_context()"
   ]
  },
  {
   "cell_type": "code",
   "execution_count": 2,
   "metadata": {},
   "outputs": [],
   "source": [
    "dday_bef = []\n",
    "tag = []\n",
    "page_num = 1\n",
    "while(page_num <=5):        \n",
    "    url = 'https://www.dreamspon.com/scholarship/list.html?page='+str(page_num)+'&ordby=1'\n",
    "    req = urllib.request.urlopen(url)\n",
    "    res = req.read()\n",
    "    soup = BeautifulSoup(res,'html.parser')\n",
    "    days = soup.select(\" .td_day > .count\")\n",
    "    target = soup.select(\".hashtag\")\n",
    "    for i in range(len(days)):\n",
    "        dday = days[i].text\n",
    "        dday = int(dday.split('-')[-1])\n",
    "        today = date.today()\n",
    "        day_tmp = datetime.timedelta(days=dday)\n",
    "        dday = str(today - day_tmp)\n",
    "        year, month, day = dday.split('-')\n",
    "        dday = year+'. '+month+'. '+day\n",
    "        dday_bef.append((dday))\n",
    "        tag_tmp = ((target[i].get_text()).replace(\"#\", \"\").replace(\"\\n\", \" \"))\n",
    "        tag_tmp = tag_tmp.strip()\n",
    "        tag_tmp = tag_tmp.split(\" \")\n",
    "        tag.append(tag_tmp)\n",
    "    page_num += 1  "
   ]
  },
  {
   "cell_type": "code",
   "execution_count": 3,
   "metadata": {},
   "outputs": [],
   "source": [
    "link_test = []\n",
    "page_num = 1\n",
    "while(page_num <=5):        \n",
    "    url = 'https://www.dreamspon.com/scholarship/list.html?page='+str(page_num)+'&ordby=1'\n",
    "    req = urllib.request.urlopen(url)\n",
    "    res = req.read()\n",
    "    soup = BeautifulSoup(res,'html.parser')\n",
    "    contests = soup.find_all(\"p\",class_=\"title\")\n",
    "    days = soup.select(\" .td_day > .count\")        \n",
    "    for i in range(len(days)):\n",
    "        link_test.append(str(contests[i]).strip('[<p class=\"title\"><a href=\"').strip('</a>'))\n",
    "    page_num += 1    "
   ]
  },
  {
   "cell_type": "code",
   "execution_count": 4,
   "metadata": {},
   "outputs": [],
   "source": [
    "#링크 추출\n",
    "link_bef=[]\n",
    "for t in range(len(link_test)):\n",
    "    link_address, title_name = link_test[t].split('\">')\n",
    "    link_ver1 = \"https://www.dreamspon.com/\" + link_address\n",
    "    link_bef.append(link_ver1)"
   ]
  },
  {
   "cell_type": "code",
   "execution_count": 5,
   "metadata": {},
   "outputs": [],
   "source": [
    "# 행사 이름\n",
    "titles_bef = []\n",
    "for t in range(len(link_test)):\n",
    "    link_address, title_name = link_test[t].split('\">')\n",
    "    titles_bef.append(title_name)"
   ]
  },
  {
   "cell_type": "code",
   "execution_count": 6,
   "metadata": {},
   "outputs": [],
   "source": [
    "# {\"id\":2,\"first_name\":\"Brion\",\"last_name\":\"Bonelle\",\"email\":\"bbonelle1@mashable.com\"}\n",
    "dream_spon = []\n",
    "\n",
    "for i in range(len(titles_bef)):\n",
    "    li_tmp = {\"title\": titles_bef[i], \"dday\": dday_bef[i], \"link\": link_bef[i], \"tag\": tag[i]}\n",
    "    dream_spon.append(li_tmp)"
   ]
  },
  {
   "cell_type": "code",
   "execution_count": 7,
   "metadata": {},
   "outputs": [],
   "source": [
    "import json\n",
    "\n",
    "with open('../json 결과/장학금.json', 'w', encoding=\"utf-8\") as make_file: \n",
    "    json.dump(dream_spon, make_file, ensure_ascii = False, indent=\"\\t\")"
   ]
  }
 ],
 "metadata": {
  "interpreter": {
   "hash": "9b3d85959e6c4b3d134916c41e259dea5bccfec32db02b044911dc7b04f0df25"
  },
  "kernelspec": {
   "display_name": "Python 3",
   "language": "python",
   "name": "python3"
  },
  "language_info": {
   "codemirror_mode": {
    "name": "ipython",
    "version": 3
   },
   "file_extension": ".py",
   "mimetype": "text/x-python",
   "name": "python",
   "nbconvert_exporter": "python",
   "pygments_lexer": "ipython3",
   "version": "3.9.2"
  }
 },
 "nbformat": 4,
 "nbformat_minor": 5
}
