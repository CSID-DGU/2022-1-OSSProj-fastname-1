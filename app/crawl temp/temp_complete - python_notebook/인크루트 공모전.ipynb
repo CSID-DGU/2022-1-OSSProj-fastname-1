{
 "cells": [
  {
   "cell_type": "code",
   "execution_count": 1,
   "metadata": {},
   "outputs": [],
   "source": [
    "import pandas as pd\n",
    "import numpy as np\n",
    "import csv\n",
    "\n",
    "import requests\n",
    "from bs4 import BeautifulSoup\n",
    "import re\n",
    "import urllib.request\n",
    "import time\n",
    "from time import sleep\n",
    "\n",
    "from selenium.webdriver import Chrome\n",
    "from selenium.webdriver.chrome.options import Options\n",
    "from selenium.webdriver.common.keys import Keys\n",
    "from selenium import webdriver\n",
    "import ssl\n",
    "\n",
    "import time\n",
    "from datetime import datetime"
   ]
  },
  {
   "cell_type": "code",
   "execution_count": 2,
   "metadata": {},
   "outputs": [],
   "source": [
    "import datetime\n",
    "from dateutil.parser import parse\n",
    "from urllib.request import urlopen\n",
    "context=ssl._create_unverified_context()"
   ]
  },
  {
   "cell_type": "code",
   "execution_count": 3,
   "metadata": {},
   "outputs": [],
   "source": [
    "import datetime\n",
    "import time"
   ]
  },
  {
   "cell_type": "code",
   "execution_count": 10,
   "metadata": {},
   "outputs": [],
   "source": [
    "\"\"\"\n",
    "naming convention및 전처리 방법은  위 올콘과 동일함. \n",
    "\"\"\"\n",
    "\n",
    "inc_title=[]\n",
    "inc_host=[]\n",
    "inc_terms=[]\n",
    "inc_start_bef=[]\n",
    "inc_end_bef=[]\n",
    "inc_qualification=[]\n",
    "inc_links=[]\n",
    "inc_real_links=[]\n",
    "base_url='https://gongmo.incruit.com/list/gongmolist.asp?ct=1&category=11'\n",
    "webpage = urlopen(base_url,context=context)\n",
    "soup = BeautifulSoup(webpage, 'html.parser')\n",
    "for i in range(1,12):\n",
    "    inc_title.append(soup.select('#tbdyGmScrap > tr:nth-child('+str(i)+') > td.gmtitle > ul > a')[0].get_text())\n",
    "    inc_host.append(soup.select('#tbdyGmScrap > tr:nth-child('+str(i)+') > td.company')[0].get_text().lstrip('\\r\\n\\t\\t\\t\\t\\t\\t\\t').strip('\\r\\n\\t\\t\\t\\t\\t\\t\\t'))\n",
    "    inc_terms.append(soup.select('#tbdyGmScrap > tr:nth-child('+str(i)+') > td.due')[0].get_text())\n",
    "    inc_links.append(soup.select('#tbdyGmScrap > tr:nth-child('+str(i)+') > td.gmtitle > ul > a')[0].get('href'))\n",
    "        \n"
   ]
  },
  {
   "cell_type": "code",
   "execution_count": null,
   "id": "a1901f70",
   "metadata": {},
   "outputs": [],
   "source": [
    "#tbdyGmScrap > tr:nth-child(1) > td.gmtitle\n",
    "#tbdyGmScrap > tr:nth-child(11) > td.gmtitle"
   ]
  },
  {
   "cell_type": "code",
   "execution_count": 11,
   "metadata": {},
   "outputs": [],
   "source": [
    "inc_start_bef=[]\n",
    "inc_end_bef=[]\n",
    "for inc_term in inc_terms:\n",
    "    inc_start_day,inc_end_day=inc_term.split(\"~\")\n",
    "    inc_start_bef.append('20'+inc_start_day.replace('.','. '))\n",
    "    inc_end_bef.append('20'+inc_end_day.replace('.','. '))"
   ]
  },
  {
   "cell_type": "code",
   "execution_count": 12,
   "metadata": {},
   "outputs": [],
   "source": [
    "incuruit = []\n",
    "\n",
    "for i in range(len(inc_title)):\n",
    "    li_tmp = {\"title\": inc_title[i], \"d-day\": inc_end_bef[i], \"link\": inc_links[i], \"tag\": inc_host[i]}\n",
    "    incuruit.append(li_tmp)"
   ]
  },
  {
   "cell_type": "code",
   "execution_count": 14,
   "id": "e5dcb2f5",
   "metadata": {},
   "outputs": [],
   "source": [
    "import json\n",
    "\n",
    "with open('incruit.json', 'w', encoding=\"utf-8\") as make_file: \n",
    "    json.dump(incuruit, make_file, ensure_ascii = False, indent=\"\\t\")"
   ]
  }
 ],
 "metadata": {
  "interpreter": {
   "hash": "9b3d85959e6c4b3d134916c41e259dea5bccfec32db02b044911dc7b04f0df25"
  },
  "kernelspec": {
   "display_name": "Python 3.9.2 64-bit",
   "language": "python",
   "name": "python3"
  },
  "language_info": {
   "codemirror_mode": {
    "name": "ipython",
    "version": 3
   },
   "file_extension": ".py",
   "mimetype": "text/x-python",
   "name": "python",
   "nbconvert_exporter": "python",
   "pygments_lexer": "ipython3",
   "version": "3.9.2"
  }
 },
 "nbformat": 4,
 "nbformat_minor": 5
}
