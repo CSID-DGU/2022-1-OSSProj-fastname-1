{
 "cells": [
  {
   "cell_type": "code",
   "execution_count": 1,
   "id": "f89a2d81",
   "metadata": {},
   "outputs": [],
   "source": [
    "import pandas as pd\n",
    "import numpy as np\n",
    "import csv\n",
    "\n",
    "import requests\n",
    "from bs4 import BeautifulSoup\n",
    "import re\n",
    "import urllib.request\n",
    "import time\n",
    "from time import sleep\n",
    "\n",
    "from selenium.webdriver import Chrome\n",
    "from selenium.webdriver.chrome.options import Options\n",
    "from selenium.webdriver.common.keys import Keys\n",
    "from selenium import webdriver\n",
    "import ssl\n",
    "\n",
    "import time\n",
    "from datetime import datetime"
   ]
  },
  {
   "cell_type": "code",
   "execution_count": 2,
   "id": "e8b8c3c8",
   "metadata": {},
   "outputs": [],
   "source": [
    "\n",
    "import datetime\n",
    "from dateutil.parser import parse\n",
    "from urllib.request import urlopen\n",
    "context=ssl._create_unverified_context()"
   ]
  },
  {
   "cell_type": "code",
   "execution_count": 3,
   "id": "a60213f4",
   "metadata": {},
   "outputs": [],
   "source": [
    "import datetime\n",
    "import time"
   ]
  },
  {
   "cell_type": "code",
   "execution_count": 23,
   "id": "53216640",
   "metadata": {},
   "outputs": [
    {
     "name": "stderr",
     "output_type": "stream",
     "text": [
      "C:\\Users\\sangh\\AppData\\Local\\Temp\\ipykernel_17808\\1696350461.py:4: DeprecationWarning: executable_path has been deprecated, please pass in a Service object\n",
      "  browser = Chrome('./chromedriver')\n"
     ]
    }
   ],
   "source": [
    "\n",
    "# 잡코리아의 IT * 대학교 항목\n",
    "\n",
    "url ='https://www.jobkorea.co.kr/starter/?chkSubmit=1&schCareer=&schLocal=&schPart=10016&schMajor=&schEduLevel=5&schWork=&schCType=&isSaved=1&LinkGubun=0&LinkNo=0&Page=1&schType=0&schGid=0&schOrderBy=0&schTxt='\n",
    "browser = Chrome('./chromedriver')\n",
    "delay=3\n",
    "browser.implicitly_wait(delay)\n",
    "browser.get(url) \n",
    "browser.maximize_window()\n",
    "page = browser.page_source\n",
    "soup = BeautifulSoup(page, 'lxml')"
   ]
  },
  {
   "cell_type": "code",
   "execution_count": 24,
   "id": "21fa69b8",
   "metadata": {},
   "outputs": [
    {
     "data": {
      "text/plain": [
       "'\\nelement_num = 40\\ncnt = 80\\n'"
      ]
     },
     "execution_count": 24,
     "metadata": {},
     "output_type": "execute_result"
    }
   ],
   "source": [
    "links = []\n",
    "titles = []\n",
    "insts = []\n",
    "end_list = []\n",
    "# 페이지 개수 구해서 넘어가게\n",
    "element_num = len(soup.select(' .tit > .link > span'))\n",
    "cnt = int(soup.select(' #TabIngCount')[0].text.replace('(', '').replace(')', '').replace(',', ''))\n",
    "'''\n",
    "element_num = 40\n",
    "cnt = 80\n",
    "'''\n"
   ]
  },
  {
   "cell_type": "code",
   "execution_count": 25,
   "id": "578bf9cc",
   "metadata": {},
   "outputs": [
    {
     "name": "stdout",
     "output_type": "stream",
     "text": [
      "2\n"
     ]
    }
   ],
   "source": [
    "\n",
    "if cnt % element_num == 0:\n",
    "    page_num = cnt / element_num\n",
    "else :\n",
    "    page_num = int(cnt / element_num) + 1\n",
    "page_num = int(page_num)\n",
    "print(page_num)\n"
   ]
  },
  {
   "cell_type": "code",
   "execution_count": 26,
   "id": "5d17e59a",
   "metadata": {},
   "outputs": [
    {
     "name": "stdout",
     "output_type": "stream",
     "text": [
      "40\n",
      "40\n"
     ]
    }
   ],
   "source": [
    "base_url = 'http://www.jobkorea.co.kr'\n",
    "\n",
    "for k in range(1,page_num+1):\n",
    "    url= 'https://www.jobkorea.co.kr/starter/?chkSubmit=1&schCareer=&schLocal=&schPart=10016&schMajor=&schEduLevel=5&schWork=&schCType=&isSaved=1&LinkGubun=0&LinkNo=0&Page=' + str(k) +'&schType=0&schGid=0&schOrderBy=0&schTxt='\n",
    "    headers = {'User-Agent': 'Mozilla/5.0'} \n",
    "    res = requests.get(url, headers=headers)\n",
    "    soup = BeautifulSoup(res.content.decode('utf-8', 'replace'), 'html.parser')\n",
    "    length = len(soup.select(' div.tit > a '))\n",
    "    print(length)\n",
    "    for i in range(length):        \n",
    "        titles.append(soup.select(' .tit > .link > span')[i].text)\n",
    "        insts.append(soup.select(' .coTit > .coLink')[i].text)\n",
    "        links.append(base_url + soup.select(' .tit > a')[i+1]['href'])\n",
    "        end_list.append((soup.select(' .side > .day')[i].text).replace(\"~\", \"\"))"
   ]
  },
  {
   "cell_type": "code",
   "execution_count": 30,
   "id": "e4739dee",
   "metadata": {},
   "outputs": [],
   "source": [
    "import json\n",
    "\n",
    "job_korea = []\n",
    "\n",
    "for i in range(len(titles)):\n",
    "    li_tmp = {\"title\": titles[i], \"d-day\": end_list[i], \"link\": links[i], \"기업\": insts[i]}\n",
    "    job_korea.append(li_tmp)\n",
    "\n",
    "with open('job_korea.json', 'w', encoding=\"utf-8\") as make_file: \n",
    "    json.dump(job_korea, make_file, ensure_ascii = False, indent=\"\\t\")"
   ]
  }
 ],
 "metadata": {
  "kernelspec": {
   "display_name": "Python 3",
   "language": "python",
   "name": "python3"
  },
  "language_info": {
   "codemirror_mode": {
    "name": "ipython",
    "version": 3
   },
   "file_extension": ".py",
   "mimetype": "text/x-python",
   "name": "python",
   "nbconvert_exporter": "python",
   "pygments_lexer": "ipython3",
   "version": "3.9.2"
  }
 },
 "nbformat": 4,
 "nbformat_minor": 5
}
