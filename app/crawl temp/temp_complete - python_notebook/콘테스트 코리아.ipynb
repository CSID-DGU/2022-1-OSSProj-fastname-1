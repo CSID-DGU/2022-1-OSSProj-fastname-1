{
 "cells": [
  {
   "cell_type": "code",
   "execution_count": 1,
   "metadata": {},
   "outputs": [],
   "source": [
    "import requests\n",
    "import json\n",
    "from bs4 import BeautifulSoup\n",
    "import selenium\n",
    "import time\n",
    "from selenium import webdriver\n",
    "from selenium.webdriver import ActionChains\n",
    "\n",
    "from selenium.webdriver.common.keys import Keys\n",
    "from selenium.webdriver.common.by import By\n",
    "\n",
    "from selenium.webdriver.support import expected_conditions as EC\n",
    "from selenium.webdriver.support.ui import Select\n",
    "from selenium.webdriver.support.ui import WebDriverWait\n",
    "from selenium.common.exceptions import NoSuchElementException,StaleElementReferenceException\n"
   ]
  },
  {
   "cell_type": "code",
   "execution_count": 7,
   "metadata": {},
   "outputs": [
    {
     "name": "stderr",
     "output_type": "stream",
     "text": [
      "C:\\Users\\sangh\\AppData\\Local\\Temp\\ipykernel_25372\\3566349745.py:10: DeprecationWarning: find_element_by_css_selector is deprecated. Please use find_element(by=By.CSS_SELECTOR, value=css_selector) instead\n",
      "  driver.find_element_by_css_selector('#frm > div > div.clfx.mb_20 > div.f-r > ul > li:nth-child(4) > button').click()\n",
      "C:\\Users\\sangh\\AppData\\Local\\Temp\\ipykernel_25372\\3566349745.py:64: DeprecationWarning: find_element_by_link_text is deprecated. Please use find_element(by=By.LINK_TEXT, value=link_text) instead\n",
      "  driver.find_element_by_link_text(text).click()\n"
     ]
    }
   ],
   "source": [
    "title = []\n",
    "date = []\n",
    "link = []\n",
    "tag = []\n",
    "target = ['대학생', '일반인', '누구나']\n",
    "\n",
    "driver = webdriver.Chrome(executable_path='chromedriver')\n",
    "driver.get('https://www.contestkorea.com/sub/list.php?int_gbn=1&Txt_bcode=030210001') #크롬 페이지를 하나 여러 확인하는 용도, 코드 완료 시 삭제 해야함\n",
    "\n",
    "driver.find_element_by_css_selector('#frm > div > div.clfx.mb_20 > div.f-r > ul > li:nth-child(4) > button').click()\n",
    "time.sleep(1)\n",
    "\n",
    "for n in range(1, 5):\n",
    "    \n",
    "    response = requests.get(driver.current_url)\n",
    "\n",
    "    if response.status_code == 200:\n",
    "        html = driver.page_source\n",
    "        soup = BeautifulSoup(html, 'html.parser')\n",
    "        list_crawl = soup.select('#frm > div > div.list_style_2 > ul')\n",
    "    else : \n",
    "        print(response.status_code)\n",
    "\n",
    "    for li in list_crawl:        \n",
    "        for num in range(0, 11):\n",
    "            tmp = []\n",
    "            \n",
    "            try:\n",
    "                li_target = li.select('li > ul > li.icon_2')[num].get_text()\n",
    "                if any(word in li_target for word in target):\n",
    "                    li_title = li.select('li > div.title > a > span.txt')[num].get_text()\n",
    "                    li_date_tmp = li.select('li > div.date > div > span.step-1')[num].text\n",
    "                    li_date = li_date_tmp.replace(\"\\n\", \"\").replace(\"\\t\", \"\")\n",
    "                    link_tmp = li.select('li > div.title > a')[num]\n",
    "                    link_tmp = link_tmp['href']               \n",
    "                    title.append(li_title)\n",
    "                    date.append(li_date)\n",
    "                    link.append(\"https://www.contestkorea.com/sub/\" + link_tmp)\n",
    "                else:            \n",
    "                    continue         \n",
    "            except IndexError:\n",
    "                break\n",
    "            \n",
    "            try:\n",
    "                li_tmp = li.select('li')[3*num]\n",
    "            except IndexError:\n",
    "                break          \n",
    "            for i in range(0, 5):\n",
    "                try:\n",
    "                    cat = li_tmp.select('div.title > a > span.category')[i].get_text()\n",
    "                    tmp.append(cat)\n",
    "                except IndexError:\n",
    "                    break    \n",
    "            tag.append(tmp)\n",
    "                \n",
    "    '''\n",
    "    page_next = driver.find_element_by_css_selector('#frm > div > div.pagination > ul > *')\n",
    "    page_sign = driver.find_element_by_css_selector('#frm > div > div.pagination > button.mg_right')\n",
    "    '''\n",
    "    \n",
    "    try:\n",
    "        if n%5 != 0:\n",
    "            text = str(n%5 + 1)\n",
    "            driver.find_element_by_link_text(text).click()\n",
    "    except NoSuchElementException:\n",
    "        driver.close()\n",
    "        break\n",
    "\n",
    "    time.sleep(1)"
   ]
  },
  {
   "cell_type": "code",
   "execution_count": 8,
   "metadata": {},
   "outputs": [],
   "source": [
    "Contest_korea = []\n",
    "\n",
    "for i in range(len(title)):\n",
    "    li_tmp = {\"title\": title[i], \"d-day\": date[i], \"link\": link[i], \"tag\": tag[i]}\n",
    "    Contest_korea.append(li_tmp)"
   ]
  },
  {
   "cell_type": "code",
   "execution_count": 9,
   "metadata": {
    "scrolled": false
   },
   "outputs": [],
   "source": [
    "import json\n",
    "\n",
    "with open('Contest_korea', 'w', encoding=\"utf-8\") as make_file: \n",
    "    json.dump(Contest_korea, make_file, ensure_ascii = False, indent=\"\\t\")"
   ]
  }
 ],
 "metadata": {
  "kernelspec": {
   "display_name": "Python 3",
   "language": "python",
   "name": "python3"
  },
  "language_info": {
   "codemirror_mode": {
    "name": "ipython",
    "version": 3
   },
   "file_extension": ".py",
   "mimetype": "text/x-python",
   "name": "python",
   "nbconvert_exporter": "python",
   "pygments_lexer": "ipython3",
   "version": "3.9.2"
  }
 },
 "nbformat": 4,
 "nbformat_minor": 4
}
