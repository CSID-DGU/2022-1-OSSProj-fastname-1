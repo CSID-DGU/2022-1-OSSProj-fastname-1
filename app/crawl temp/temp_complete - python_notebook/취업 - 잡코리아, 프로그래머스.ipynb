{
 "cells": [
  {
   "cell_type": "code",
   "execution_count": 1,
   "id": "f89a2d81",
   "metadata": {},
   "outputs": [],
   "source": [
    "import pandas as pd\n",
    "from pandas import json_normalize\n",
    "import numpy as np\n",
    "\n",
    "import requests\n",
    "from bs4 import BeautifulSoup\n",
    "import re\n",
    "import ssl"
   ]
  },
  {
   "cell_type": "code",
   "execution_count": 2,
   "id": "e8b8c3c8",
   "metadata": {},
   "outputs": [],
   "source": [
    "from dateutil.parser import parse\n",
    "from urllib.request import urlopen\n",
    "context=ssl._create_unverified_context()"
   ]
  },
  {
   "cell_type": "code",
   "execution_count": 3,
   "id": "5d17e59a",
   "metadata": {},
   "outputs": [],
   "source": [
    "links = []\n",
    "titles = []\n",
    "insts = []\n",
    "end_list = []\n",
    "base_url = 'http://www.jobkorea.co.kr'\n",
    "\n",
    "# 페이지 개수 구해서 넘어가게\n",
    "url= 'https://www.jobkorea.co.kr/starter/?chkSubmit=1&schCareer=&schLocal=&schPart=10016&schMajor=&schEduLevel=5&schWork=&schCType=&isSaved=1&LinkGubun=0&LinkNo=0&Page=1&schType=0&schGid=0&schOrderBy=0&schTxt='\n",
    "headers = {'User-Agent': 'Mozilla/5.0'} \n",
    "res = requests.get(url, headers=headers)\n",
    "soup = BeautifulSoup(res.content.decode('utf-8', 'replace'), 'html.parser')\n",
    "element_num = len(soup.select(' .tit > .link > span'))\n",
    "cnt = int(soup.select(' #TabIngCount')[0].text.replace('(', '').replace(')', '').replace(',', ''))\n",
    "if cnt % element_num == 0:\n",
    "    page_num = cnt / element_num\n",
    "else :\n",
    "    page_num = int(cnt / element_num) + 1\n",
    "    page_num = int(page_num)\n",
    "\n",
    "for k in range(1,page_num+1):\n",
    "    url= 'https://www.jobkorea.co.kr/starter/?chkSubmit=1&schCareer=&schLocal=&schPart=10016&schMajor=&schEduLevel=5&schWork=&schCType=&isSaved=1&LinkGubun=0&LinkNo=0&Page=' + str(k) +'&schType=0&schGid=0&schOrderBy=0&schTxt='\n",
    "    headers = {'User-Agent': 'Mozilla/5.0'} \n",
    "    res = requests.get(url, headers=headers)\n",
    "    soup = BeautifulSoup(res.content.decode('utf-8', 'replace'), 'html.parser')\n",
    "    length = len(soup.select(' div.tit > a '))\n",
    "    for i in range(length):        \n",
    "        titles.append(soup.select(' .tit > .link > span')[i].text)\n",
    "        insts.append(soup.select(' .coTit > .coLink')[i].text)\n",
    "        links.append(base_url + soup.select(' .tit > a')[i+1]['href'])\n",
    "        end_list.append((soup.select(' .side > .day')[i].text).replace(\"~\", \"\"))"
   ]
  },
  {
   "cell_type": "code",
   "execution_count": 4,
   "id": "e4739dee",
   "metadata": {},
   "outputs": [],
   "source": [
    "import json\n",
    "\n",
    "job = []\n",
    "\n",
    "for i in range(len(titles)):\n",
    "    li_tmp = {\"title\": titles[i], \"dday\": end_list[i], \"link\": links[i], \"기업\": insts[i]}\n",
    "    job.append(li_tmp)"
   ]
  },
  {
   "cell_type": "code",
   "execution_count": 5,
   "id": "ef1446db",
   "metadata": {},
   "outputs": [],
   "source": [
    "# 취업 프로그래머스\n",
    "pr_titles = []\n",
    "pr_company = []\n",
    "pr_links = []\n",
    "pr_address = []\n",
    "\n",
    "for i in range(1, 27):\n",
    "\n",
    "    cookies = {\n",
    "        '_programmers_session_production': '8afb764fc54ea3576ad07db48d3c723c',\n",
    "        '_gcl_au': '1.1.1544457234.1651487879',\n",
    "        '_ga': 'GA1.3.2065482246.1651487879',\n",
    "        '_fbp': 'fb.2.1651487879006.854201146',\n",
    "        '__gads': 'ID=293401b0ae4479e9-2250976589d20099:T=1651487879:RT=1651487879:S=ALNI_MZ_oVdweVxKkRrx9a57H3W4jvqWYg',\n",
    "        '_gcl_aw': 'GCL.1652522688.Cj0KCQjwpv2TBhDoARIsALBnVnn-ySzmgtkyQtwrJCDvQjJ1XGSP5L7VBwRXHGKO0_kgNhlYdQEK21oaApg7EALw_wcB',\n",
    "        '_gid': 'GA1.3.50921043.1652522688',\n",
    "        '_gac_UA-72680702-5': '1.1652522688.Cj0KCQjwpv2TBhDoARIsALBnVnn-ySzmgtkyQtwrJCDvQjJ1XGSP5L7VBwRXHGKO0_kgNhlYdQEK21oaApg7EALw_wcB',\n",
    "        '_clck': 'd6s3xo|1|f1g|0',\n",
    "        'locale': 'ko',\n",
    "        '_gat_UA-72680702-5': '1',\n",
    "        '_clsk': '1uba3yj|1652542257360|7|1|h.clarity.ms/collect',\n",
    "    }\n",
    "\n",
    "    headers = {\n",
    "        'authority': 'programmers.co.kr',\n",
    "        'accept': 'application/json, text/plain, */*',\n",
    "        'accept-language': 'ko-KR,ko;q=0.9,en-US;q=0.8,en;q=0.7',\n",
    "        # Requests sorts cookies= alphabetically\n",
    "        # 'cookie': '_programmers_session_production=8afb764fc54ea3576ad07db48d3c723c; _gcl_au=1.1.1544457234.1651487879; _ga=GA1.3.2065482246.1651487879; _fbp=fb.2.1651487879006.854201146; __gads=ID=293401b0ae4479e9-2250976589d20099:T=1651487879:RT=1651487879:S=ALNI_MZ_oVdweVxKkRrx9a57H3W4jvqWYg; _gcl_aw=GCL.1652522688.Cj0KCQjwpv2TBhDoARIsALBnVnn-ySzmgtkyQtwrJCDvQjJ1XGSP5L7VBwRXHGKO0_kgNhlYdQEK21oaApg7EALw_wcB; _gid=GA1.3.50921043.1652522688; _gac_UA-72680702-5=1.1652522688.Cj0KCQjwpv2TBhDoARIsALBnVnn-ySzmgtkyQtwrJCDvQjJ1XGSP5L7VBwRXHGKO0_kgNhlYdQEK21oaApg7EALw_wcB; _clck=d6s3xo|1|f1g|0; locale=ko; _clsk=1uba3yj|1652542257360|7|1|h.clarity.ms/collect; _gat_UA-72680702-5=1',\n",
    "        'referer': 'https://programmers.co.kr/job?page=3&min_career=0&order=recent',\n",
    "        'sec-ch-ua': '\" Not A;Brand\";v=\"99\", \"Chromium\";v=\"101\", \"Google Chrome\";v=\"101\"',\n",
    "        'sec-ch-ua-mobile': '?0',\n",
    "        'sec-ch-ua-platform': '\"Windows\"',\n",
    "        'sec-fetch-dest': 'empty',\n",
    "        'sec-fetch-mode': 'cors',\n",
    "        'sec-fetch-site': 'same-origin',\n",
    "        'sentry-trace': 'bf5ca34edda74dbd9e694288d7f28313-9877ff800e5309db-0',\n",
    "        'user-agent': 'Mozilla/5.0 (Windows NT 10.0; Win64; x64) AppleWebKit/537.36 (KHTML, like Gecko) Chrome/101.0.4951.64 Safari/537.36',\n",
    "    }\n",
    "\n",
    "    response = requests.get('https://programmers.co.kr/api/job_positions?min_career=0&order\\\\[\\\\]=recent&page='+str(i), cookies=cookies, headers=headers)\n",
    "\n",
    "    html = response.text\n",
    "    dict = json.loads(html)\n",
    "    df = json_normalize(dict['jobPositions'])\n",
    "    df = df.drop(['careerRange', 'companyId', 'jobType', 'maxSalary', 'minSalary', 'personalized', 'signingBonus', 'company.revenue', 'company.hideRevenue', 'company.blog', 'company.funding', 'company.hideFunding', 'company.countryCode', 'careerOption', 'jobCategoryIds', 'createdAt',\n",
    "    'career', 'startAt', 'updatedAt', 'company.serviceUrl' ,'company.logoUrl' ,'company.employees', 'company.developers', 'company.employeesCount', 'company.averageResponseTime', 'company.id', 'status', 'company.serviceName', 'company.homeUrl', 'company.address', 'id', 'period', 'technicalTags',\n",
    "    'company.benefitTags', 'teamTechnicalTags'], axis=1)\n",
    "    df = df[['title', 'company.name', 'url', 'address']]\n",
    "\n",
    "    for i in range(len(df)):\n",
    "        title = df.iloc[i][0]\n",
    "        name = df.iloc[i][1]\n",
    "        link = df.iloc[i][2]\n",
    "        link = 'https://programmers.co.kr'+str(link)\n",
    "        pr_titles.append(title)\n",
    "        pr_company.append(name)\n",
    "        pr_links.append(link)"
   ]
  },
  {
   "cell_type": "code",
   "execution_count": 6,
   "id": "c31da8d0",
   "metadata": {},
   "outputs": [],
   "source": [
    "for i in range(len(pr_titles)):\n",
    "    li_tmp = {\"title\": pr_titles[i], \"dday\": '해당없음', \"link\": pr_links[i], \"기업\": pr_company[i]}\n",
    "    job.append(li_tmp)\n",
    "\n",
    "with open('취업.json', 'w', encoding=\"utf-8\") as make_file: \n",
    "    json.dump(job, make_file, ensure_ascii = False, indent=\"\\t\")"
   ]
  }
 ],
 "metadata": {
  "interpreter": {
   "hash": "9b3d85959e6c4b3d134916c41e259dea5bccfec32db02b044911dc7b04f0df25"
  },
  "kernelspec": {
   "display_name": "Python 3.9.2 64-bit",
   "language": "python",
   "name": "python3"
  },
  "language_info": {
   "codemirror_mode": {
    "name": "ipython",
    "version": 3
   },
   "file_extension": ".py",
   "mimetype": "text/x-python",
   "name": "python",
   "nbconvert_exporter": "python",
   "pygments_lexer": "ipython3",
   "version": "3.9.2"
  }
 },
 "nbformat": 4,
 "nbformat_minor": 5
}
