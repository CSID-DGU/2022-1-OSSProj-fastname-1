{
 "cells": [
  {
   "cell_type": "code",
   "execution_count": 17,
   "id": "incorporated-spider",
   "metadata": {},
   "outputs": [],
   "source": [
    "import pandas as pd\n",
    "import numpy as np\n",
    "\n",
    "import requests\n",
    "from bs4 import BeautifulSoup\n",
    "import re\n",
    "import urllib.request\n",
    "from urllib.request import urlopen\n",
    "import ssl\n",
    "ssl._create_default_https_context = ssl._create_unverified_context"
   ]
  },
  {
   "cell_type": "code",
   "execution_count": 24,
   "id": "d3976a77",
   "metadata": {},
   "outputs": [
    {
     "name": "stdout",
     "output_type": "stream",
     "text": [
      "{\"currentPage\":1,\"totalPage\":7,\"totalCount\":101,\"perPage\":10,\"rows\":[{\"cl_srl\":\"479380\",\"cl_type_str\":\"\\ub300\\uc678\\ud65c\\ub3d9\",\"cl_cate\":\"<span cl_cate\\\"=\"\" class='\\\"badge'>\\uc11c\\ud3ec\\ud130\\uc988\\u00b7\\uae30\\uc790\\ub2e8\\u00b7\\ub9c8\\ucf00\\ud130&lt;\\/span&gt;<span cl_cate\\\"=\"\" class='\\\"badge'>\\uc81c\\ud55c\\uc5c6\\uc74c&lt;\\/span&gt;\",\"cl_status\":\"<span class=\"badge cl_status2\">\\uc811\\uc218\\uc911&lt;\\/span&gt;<br/>D-9\",\"cl_view\":\"111\",\"cl_title\":\"<a href=\"\\/view\\/contest\\/479380?page=1&amp;sortname=cl_order&amp;sortorder=asc\">\\uc138\\uacc4\\uc778\\uad8c\\ub3c4\\uc2dc\\ud3ec\\ub7fc, \\uc790\\uc6d0\\ud65c\\ub3d9\\uac00 \\ud734\\ub85c Huro \\ubaa8\\uc9d1&lt;\\/a&gt;<span class='\\\"new_icon\\\"'>N<span class='\\\"sound_only\\\"'>\\uc0c8\\uae00&lt;\\/span&gt;&lt;\\/span&gt;\",\"cl_date\":\"22.05.09~22.05.22\",\"cl_host\":\"\\uc138\\uacc4\\uc778\\uad8c\\ub3c4\\uc2dc\\ud3ec\\ub7fc \\uc0ac\\ubb34\\uad6d\",\"cl_is_star\":\"0\"},{\"cl_srl\":\"479378\",\"cl_type_str\":\"\\ub300\\uc678\\ud65c\\ub3d9\",\"cl_cate\":\"<span cl_cate\\\"=\"\" class='\\\"badge'>\\uae30\\ud0c0(\\ucea0\\ud504\\/\\uac15\\uc5f0 \\ub4f1)&lt;\\/span&gt;<span cl_cate\\\"=\"\" class='\\\"badge'>\\uc81c\\ud55c\\uc5c6\\uc74c&lt;\\/span&gt;\",\"cl_status\":\"<span class=\"badge cl_status2\">\\uc811\\uc218\\uc911&lt;\\/span&gt;<br/>D-32\",\"cl_view\":\"107\",\"cl_title\":\"<a href=\"\\/view\\/contest\\/479378?page=1&amp;sortname=cl_order&amp;sortorder=asc\">5\\uc8fc \\uc644\\uc131 \\ucde8\\uc5c5\\uc5f0\\uacc4 SW\\uc9c1\\ubb34 \\ubd80\\ud2b8\\ucea0\\ud504&lt;\\/a&gt;<span class='\\\"new_icon\\\"'>N<span class='\\\"sound_only\\\"'>\\uc0c8\\uae00&lt;\\/span&gt;&lt;\\/span&gt;\",\"cl_date\":\"22.05.12~22.06.14\",\"cl_host\":\"\\uc131\\ub0a8\\uc0b0\\uc5c5\\uc9c4\\ud765\\uc6d0\",\"cl_is_star\":\"0\"},{\"cl_srl\":\"479372\",\"cl_type_str\":\"\\ub300\\uc678\\ud65c\\ub3d9\",\"cl_cate\":\"<span cl_cate\\\"=\"\" class='\\\"badge'>\\uc11c\\ud3ec\\ud130\\uc988\\u00b7\\uae30\\uc790\\ub2e8\\u00b7\\ub9c8\\ucf00\\ud130&lt;\\/span&gt;<span cl_cate\\\"=\"\" class='\\\"badge'>\\uc81c\\ud55c\\uc5c6\\uc74c&lt;\\/span&gt;\",\"cl_status\":\"<span class=\"badge cl_status2\">\\uc811\\uc218\\uc911&lt;\\/span&gt;<br/>D-5\",\"cl_view\":\"100\",\"cl_title\":\"<a href=\"\\/view\\/contest\\/479372?page=1&amp;sortname=cl_order&amp;sortorder=asc\">2022\\ub144 \\uc81c4\\uae30 \\ubd80\\uc0b0\\uc5ec\\uc131\\uac00\\uc871\\uac1c\\ubc1c\\uc6d0 \\uc11c\\ud3ec\\ud130\\uc988 \\ub098\\ub974\\ub2e8 \\ubaa8\\uc9d1&lt;\\/a&gt;<span class='\\\"new_icon\\\"'>N<span class='\\\"sound_only\\\"'>\\uc0c8\\uae00&lt;\\/span&gt;&lt;\\/span&gt;\",\"cl_date\":\"22.05.09~22.05.18\",\"cl_host\":\"\\ubd80\\uc0b0\\uc5ec\\uc131\\uac00\\uc871\\uac1c\\ubc1c\\uc6d0\",\"cl_is_star\":\"0\"},{\"cl_srl\":\"479371\",\"cl_type_str\":\"\\ub300\\uc678\\ud65c\\ub3d9\",\"cl_cate\":\"<span cl_cate\\\"=\"\" class='\\\"badge'>\\uc11c\\ud3ec\\ud130\\uc988\\u00b7\\uae30\\uc790\\ub2e8\\u00b7\\ub9c8\\ucf00\\ud130&lt;\\/span&gt;<span cl_cate\\\"=\"\" class='\\\"badge'>\\uc81c\\ud55c\\uc5c6\\uc74c&lt;\\/span&gt;\",\"cl_status\":\"<span class=\"badge cl_status2\">\\uc811\\uc218\\uc911&lt;\\/span&gt;<br/>D-13\",\"cl_view\":\"99\",\"cl_title\":\"<a href=\"\\/view\\/contest\\/479371?page=1&amp;sortname=cl_order&amp;sortorder=asc\">2022\\ub144 \\ub2f4\\uc7a5\\ud5c8\\ubb3c\\uae30\\uc0ac\\uc5c5 \\uc2dc\\ubbfc\\uc870\\uc0ac\\uc6d0 \\ubaa8\\uc9d1&lt;\\/a&gt;<span class='\\\"new_icon\\\"'>N<span class='\\\"sound_only\\\"'>\\uc0c8\\uae00&lt;\\/span&gt;&lt;\\/span&gt;\",\"cl_date\":\"22.05.09~22.05.26\",\"cl_host\":\"\\ub300\\uad6cYMCA\",\"cl_is_star\":\"0\"},{\"cl_srl\":\"479367\",\"cl_type_str\":\"\\ub300\\uc678\\ud65c\\ub3d9\",\"cl_cate\":\"<span cl_cate\\\"=\"\" class='\\\"badge'>\\uae30\\ud0c0(\\ucea0\\ud504\\/\\uac15\\uc5f0 \\ub4f1)&lt;\\/span&gt;<span cl_cate\\\"=\"\" class='\\\"badge'>\\uc81c\\ud55c\\uc5c6\\uc74c&lt;\\/span&gt;\",\"cl_status\":\"<span class=\"badge cl_status2\">\\uc811\\uc218\\uc911&lt;\\/span&gt;<br/>D-1\",\"cl_view\":\"117\",\"cl_title\":\"<a href=\"\\/view\\/contest\\/479367?page=1&amp;sortname=cl_order&amp;sortorder=asc\">\\uad6d\\uc81c\\uccad\\ub144\\uc13c\\ud130 \\uc720\\ud559\\uc124\\uba85\\ud68c&lt;\\/a&gt;<span class='\\\"new_icon\\\"'>N<span class='\\\"sound_only\\\"'>\\uc0c8\\uae00&lt;\\/span&gt;&lt;\\/span&gt;\",\"cl_date\":\"22.05.11~22.05.14\",\"cl_host\":\"ICY \\uad6d\\uc81c\\uccad\\ub144\\uc13c\\ud130\",\"cl_is_star\":\"0\"},{\"cl_srl\":\"479362\",\"cl_type_str\":\"\\ub300\\uc678\\ud65c\\ub3d9\",\"cl_cate\":\"<span cl_cate\\\"=\"\" class='\\\"badge'>\\ubd09\\uc0ac\\ud65c\\ub3d9&lt;\\/span&gt;<span cl_cate\\\"=\"\" class='\\\"badge'>\\uc81c\\ud55c\\uc5c6\\uc74c&lt;\\/span&gt;\",\"cl_status\":\"<span class=\"badge cl_status2\">\\uc811\\uc218\\uc911&lt;\\/span&gt;<br/>D-17\",\"cl_view\":\"105\",\"cl_title\":\"<a href=\"\\/view\\/contest\\/479362?page=1&amp;sortname=cl_order&amp;sortorder=asc\">icoop \\uc790\\uc5f0\\ub4dc\\ub9bc \\ubd80\\uc0b0\\uad8c\\uc5ed\\uacfc \\ud568\\uaed8\\ud558\\ub294 \\uad7f\\ub124\\uc774\\ubc84\\uc2a4 \\ubc14\\ub978\\ud658\\uacbd\\uc0dd\\ud65c \\uc2dc\\uc98c 3 \\ucc38\\uc5ec\\uc790 \\ubaa8\\uc9d1&lt;\\/a&gt;<span class='\\\"new_icon\\\"'>N<span class='\\\"sound_only\\\"'>\\uc0c8\\uae00&lt;\\/span&gt;&lt;\\/span&gt;\",\"cl_date\":\"22.05.06~22.05.30\",\"cl_host\":\"\\uad7f\\ub124\\uc774\\ubc84\\uc2a4 \\ubd80\\uc0b0\\ub3d9\\ubd80\\uc9c0\\ubd80\",\"cl_is_star\":\"0\"},{\"cl_srl\":\"479361\",\"cl_type_str\":\"\\ub300\\uc678\\ud65c\\ub3d9\",\"cl_cate\":\"<span cl_cate\\\"=\"\" class='\\\"badge'>\\uae30\\ud0c0(\\ucea0\\ud504\\/\\uac15\\uc5f0 \\ub4f1)&lt;\\/span&gt;<span cl_cate\\\"=\"\" class='\\\"badge'>\\uc81c\\ud55c\\uc5c6\\uc74c&lt;\\/span&gt;\",\"cl_status\":\"<span class=\"badge cl_status2\">\\uc811\\uc218\\uc911&lt;\\/span&gt;<br/>D-11\",\"cl_view\":\"108\",\"cl_title\":\"<a href=\"\\/view\\/contest\\/479361?page=1&amp;sortname=cl_order&amp;sortorder=asc\">\\uc2e4\\ubb34 \\uac1c\\ubc1c\\uc790 \\ucd08\\uccad \\uc628\\ub77c\\uc778 \\uc138\\ubbf8\\ub098: \\ub77c\\uc778\\ud504\\ub80c\\uc988 \\uac1c\\ubc1c\\uc790\\uac00 \\ub4e4\\ub824\\uc8fc\\ub294 \\uac1c\\ubc1c\\uc790 \\uc774\\uc57c\\uae30&lt;\\/a&gt;<span class='\\\"new_icon\\\"'>N<span class='\\\"sound_only\\\"'>\\uc0c8\\uae00&lt;\\/span&gt;&lt;\\/span&gt;\",\"cl_date\":\"22.05.12~22.05.24\",\"cl_host\":\"\\uad6c\\ub514\\uc544\\uce74\\ub370\\ubbf8\",\"cl_is_star\":\"0\"},{\"cl_srl\":\"479360\",\"cl_type_str\":\"\\ub300\\uc678\\ud65c\\ub3d9\",\"cl_cate\":\"<span cl_cate\\\"=\"\" class='\\\"badge'>\\uc11c\\ud3ec\\ud130\\uc988\\u00b7\\uae30\\uc790\\ub2e8\\u00b7\\ub9c8\\ucf00\\ud130&lt;\\/span&gt;<span cl_cate\\\"=\"\" class='\\\"badge'>\\uc81c\\ud55c\\uc5c6\\uc74c&lt;\\/span&gt;\",\"cl_status\":\"<span class=\"badge cl_status2\">\\uc811\\uc218\\uc911&lt;\\/span&gt;<br/>D-7\",\"cl_view\":\"137\",\"cl_title\":\"<a href=\"\\/view\\/contest\\/479360?page=1&amp;sortname=cl_order&amp;sortorder=asc\">2022 \\uce74\\ud0c0\\ub974 \\uc6d4\\ub4dc\\ucef5 \\uc11c\\ud3ec\\ud130\\uc988 \\ubaa8\\uc9d1&lt;\\/a&gt;<span class='\\\"new_icon\\\"'>N<span class='\\\"sound_only\\\"'>\\uc0c8\\uae00&lt;\\/span&gt;&lt;\\/span&gt;\",\"cl_date\":\"22.05.11~22.05.20\",\"cl_host\":\"\\uc54c\\ub2e4, \\uc0c8\\ubcbd\\ubcc4\",\"cl_is_star\":\"0\"},{\"cl_srl\":\"479359\",\"cl_type_str\":\"\\ub300\\uc678\\ud65c\\ub3d9\",\"cl_cate\":\"<span cl_cate\\\"=\"\" class='\\\"badge'>\\uae30\\ud0c0(\\ucea0\\ud504\\/\\uac15\\uc5f0 \\ub4f1)&lt;\\/span&gt;<span cl_cate\\\"=\"\" class='\\\"badge'>\\uc81c\\ud55c\\uc5c6\\uc74c&lt;\\/span&gt;\",\"cl_status\":\"<span class=\"badge cl_status2\">\\uc811\\uc218\\uc911&lt;\\/span&gt;<br/>D-13\",\"cl_view\":\"107\",\"cl_title\":\"<a href=\"\\/view\\/contest\\/479359?page=1&amp;sortname=cl_order&amp;sortorder=asc\">\\ud3ec\\ud1a0\\uadf8\\ub798\\uba54\\ud2b8\\ub9ac \\uae30\\uc220 \\uad50\\uc721 Reality Capture \\ubc0f \\ub4dc\\ub860 \\ud65c\\uc6a9&lt;\\/a&gt;<span class='\\\"new_icon\\\"'>N<span class='\\\"sound_only\\\"'>\\uc0c8\\uae00&lt;\\/span&gt;&lt;\\/span&gt;\",\"cl_date\":\"22.05.11~22.05.26\",\"cl_host\":\"\\ud55c\\uad6d\\uba54\\ud0c0\\ubc84\\uc2a4\\uc0b0\\uc5c5\\ud611\\ud68c\",\"cl_is_star\":\"0\"},{\"cl_srl\":\"479354\",\"cl_type_str\":\"\\ub300\\uc678\\ud65c\\ub3d9\",\"cl_cate\":\"<span cl_cate\\\"=\"\" class='\\\"badge'>\\uae30\\ud0c0(\\ucea0\\ud504\\/\\uac15\\uc5f0 \\ub4f1)&lt;\\/span&gt;<span cl_cate\\\"=\"\" class='\\\"badge'>\\uc81c\\ud55c\\uc5c6\\uc74c&lt;\\/span&gt;\",\"cl_status\":\"<span class=\"badge cl_status2\">\\uc811\\uc218\\uc911&lt;\\/span&gt;<br/>D-7\",\"cl_view\":\"115\",\"cl_title\":\"<a href=\"\\/view\\/contest\\/479354?page=1&amp;sortname=cl_order&amp;sortorder=asc\">e-\\ucee4\\uba38\\uc2a4 \\ud53c\\uce6d\\ud398\\uc2a4\\ud0c0&lt;\\/a&gt;<span class='\\\"new_icon\\\"'>N<span class='\\\"sound_only\\\"'>\\uc0c8\\uae00&lt;\\/span&gt;&lt;\\/span&gt;\",\"cl_date\":\"22.05.02~22.05.20\",\"cl_host\":\"\\uc0b0\\uc5c5\\ud1b5\\uc0c1\\uc790\\uc6d0\\ubd80, \\ud55c\\uad6d\\uc0b0\\u2026\",\"cl_is_star\":\"0\"},{\"cl_srl\":\"479351\",\"cl_type_str\":\"\\ub300\\uc678\\ud65c\\ub3d9\",\"cl_cate\":\"<span cl_cate\\\"=\"\" class='\\\"badge'>\\uc11c\\ud3ec\\ud130\\uc988\\u00b7\\uae30\\uc790\\ub2e8\\u00b7\\ub9c8\\ucf00\\ud130&lt;\\/span&gt;<span cl_cate\\\"=\"\" class='\\\"badge'>\\uc81c\\ud55c\\uc5c6\\uc74c&lt;\\/span&gt;\",\"cl_status\":\"<span class=\"badge cl_status2\">\\uc811\\uc218\\uc911&lt;\\/span&gt;<br/>D-13\",\"cl_view\":\"175\",\"cl_title\":\"<a href=\"\\/view\\/contest\\/479351?page=1&amp;sortname=cl_order&amp;sortorder=asc\">\\uad6d\\uac00\\uc9c0\\uc2dd\\uc7ac\\uc0b0\\uc704\\uc6d0\\ud68c \\uc11c\\ud3ec\\ud130\\uc988 [\\uc9c0\\uc2dd\\uc7ac\\uc0b0\\ubc1c\\uad74\\ub2e8] \\ubaa8\\uc9d1&lt;\\/a&gt;<span class='\\\"new_icon\\\"'>N<span class='\\\"sound_only\\\"'>\\uc0c8\\uae00&lt;\\/span&gt;&lt;\\/span&gt;\",\"cl_date\":\"22.05.13~22.05.26\",\"cl_host\":\"\\ub300\\ud1b5\\ub839\\uc18c\\uc18d \\uad6d\\uac00\\uc9c0\\uc2dd\\uc7ac\\uc0b0\\u2026\",\"cl_is_star\":\"0\"},{\"cl_srl\":\"479345\",\"cl_type_str\":\"\\ub300\\uc678\\ud65c\\ub3d9\",\"cl_cate\":\"<span cl_cate\\\"=\"\" class='\\\"badge'>\\uc11c\\ud3ec\\ud130\\uc988\\u00b7\\uae30\\uc790\\ub2e8\\u00b7\\ub9c8\\ucf00\\ud130&lt;\\/span&gt;<span cl_cate\\\"=\"\" class='\\\"badge'>\\uc81c\\ud55c\\uc5c6\\uc74c&lt;\\/span&gt;\",\"cl_status\":\"<span class=\"badge cl_status2\">\\uc811\\uc218\\uc911&lt;\\/span&gt;<br/>D-48\",\"cl_view\":\"130\",\"cl_title\":\"<a href=\"\\/view\\/contest\\/479345?page=1&amp;sortname=cl_order&amp;sortorder=asc\">\\uc81c3\\uae30 \\uc591\\uad6c\\uad70 \\uc720\\ud29c\\ube0c \\uc11c\\ud3ec\\ud130\\uc988 \\ubaa8\\uc9d1&lt;\\/a&gt;<span class='\\\"new_icon\\\"'>N<span class='\\\"sound_only\\\"'>\\uc0c8\\uae00&lt;\\/span&gt;&lt;\\/span&gt;\",\"cl_date\":\"22.04.18~22.06.30\",\"cl_host\":\"\\uc528\\uc564\\uc528\",\"cl_is_star\":\"0\"},{\"cl_srl\":\"479344\",\"cl_type_str\":\"\\ub300\\uc678\\ud65c\\ub3d9\",\"cl_cate\":\"<span cl_cate\\\"=\"\" class='\\\"badge'>\\uae30\\ud0c0(\\ucea0\\ud504\\/\\uac15\\uc5f0 \\ub4f1)&lt;\\/span&gt;<span cl_cate\\\"=\"\" class='\\\"badge'>\\uc81c\\ud55c\\uc5c6\\uc74c&lt;\\/span&gt;\",\"cl_status\":\"<span class=\"badge cl_status2\">\\uc811\\uc218\\uc911&lt;\\/span&gt;<br/>D-13\",\"cl_view\":\"115\",\"cl_title\":\"<a href=\"\\/view\\/contest\\/479344?page=1&amp;sortname=cl_order&amp;sortorder=asc\">2022 \\uc774\\ub370\\uc77c\\ub9acTV \\uc6f0\\uc2a4\\ud22c\\uc5b4 in \\ubd80\\uc0b0&lt;\\/a&gt;<span class='\\\"new_icon\\\"'>N<span class='\\\"sound_only\\\"'>\\uc0c8\\uae00&lt;\\/span&gt;&lt;\\/span&gt;\",\"cl_date\":\"22.05.06~22.05.26\",\"cl_host\":\"\\uc774\\ub370\\uc77c\\ub9ac, \\uc774\\ub370\\uc77c\\ub9ac\\uc528\\uc564\\u2026\",\"cl_is_star\":\"0\"},{\"cl_srl\":\"479340\",\"cl_type_str\":\"\\ub300\\uc678\\ud65c\\ub3d9\",\"cl_cate\":\"<span cl_cate\\\"=\"\" class='\\\"badge'>\\uae30\\ud0c0(\\ucea0\\ud504\\/\\uac15\\uc5f0 \\ub4f1)&lt;\\/span&gt;<span cl_cate\\\"=\"\" class='\\\"badge'>\\uc81c\\ud55c\\uc5c6\\uc74c&lt;\\/span&gt;\",\"cl_status\":\"<span class=\"badge cl_status2\">\\uc811\\uc218\\uc911&lt;\\/span&gt;<br/>D-12\",\"cl_view\":\"116\",\"cl_title\":\"<a href=\"\\/view\\/contest\\/479340?page=1&amp;sortname=cl_order&amp;sortorder=asc\">2022 1Day kaa-llege\\ucc3d\\uc5c5\\uae30\\ud68d\\uc790 \\uc900\\ubc95\\uac10\\uc2dc\\uc778 \\uacfc\\uc815 \\uad50\\uc721\\uc0dd \\ubaa8\\uc9d1&lt;\\/a&gt;<span class='\\\"new_icon\\\"'>N<span class='\\\"sound_only\\\"'>\\uc0c8\\uae00&lt;\\/span&gt;&lt;\\/span&gt;\",\"cl_date\":\"22.05.12~22.05.25\",\"cl_host\":\"(\\uc0ac)\\ud55c\\uad6d\\uc561\\uc140\\ub7ec\\ub808\\uc774\\ud130\\ud611\\u2026\",\"cl_is_star\":\"0\"},{\"cl_srl\":\"479315\",\"cl_type_str\":\"\\ub300\\uc678\\ud65c\\ub3d9\",\"cl_cate\":\"<span cl_cate\\\"=\"\" class='\\\"badge'>\\ubd09\\uc0ac\\ud65c\\ub3d9&lt;\\/span&gt;<span cl_cate\\\"=\"\" class='\\\"badge'>\\uc81c\\ud55c\\uc5c6\\uc74c&lt;\\/span&gt;\",\"cl_status\":\"<span class=\"badge cl_status2\">\\uc811\\uc218\\uc911&lt;\\/span&gt;<br/>D-13\",\"cl_view\":\"131\",\"cl_title\":\"<a href=\"\\/view\\/contest\\/479315?page=1&amp;sortname=cl_order&amp;sortorder=asc\">\\ub09c\\uc9c0\\ub3c4 \\ub3c4\\ud1a0\\ub9ac\\ub098\\ubb34\\uc2ec\\uae30 \\ub179\\ubd09\\ub2e8 \\ubaa8\\uc9d1&lt;\\/a&gt;<span class='\\\"new_icon\\\"'>N<span class='\\\"sound_only\\\"'>\\uc0c8\\uae00&lt;\\/span&gt;&lt;\\/span&gt;\",\"cl_date\":\"22.05.12~22.05.26\",\"cl_host\":\"\\ubbf8\\ub798\\uc232\",\"cl_is_star\":\"0\"}],\"para\":{\"sortorder\":\"asc\",\"page\":\"1\",\"sortname\":\"cl_order\",\"tg\":[\"1\"],\"rows\":\"15\",\"t\":\"2\"}}</span></span></a></span></span></span></span></span></a></span></span></span></span></span></a></span></span></span></span></span></a></span></span></span></span></span></a></span></span></span></span></span></a></span></span></span></span></span></a></span></span></span></span></span></a></span></span></span></span></span></a></span></span></span></span></span></a></span></span></span></span></span></a></span></span></span></span></span></a></span></span></span></span></span></a></span></span></span></span></span></a></span></span></span></span></span></a></span></span></span>\n"
     ]
    },
    {
     "name": "stderr",
     "output_type": "stream",
     "text": [
      "c:\\Users\\sangh\\AppData\\Local\\Programs\\Python\\Python39\\lib\\site-packages\\urllib3\\connectionpool.py:1043: InsecureRequestWarning: Unverified HTTPS request is being made to host 'www.all-con.co.kr'. Adding certificate verification is strongly advised. See: https://urllib3.readthedocs.io/en/1.26.x/advanced-usage.html#ssl-warnings\n",
      "  warnings.warn(\n"
     ]
    }
   ],
   "source": [
    "import requests\n",
    "\n",
    "cookies = {\n",
    "    '_ga': 'GA1.1.728534639.1651484630',\n",
    "    'PHPSESSID': '5mldmgi9lh7rj5dj88vl4kqnu5',\n",
    "    '2a0d2363701f23f8a75028924a3af643': 'MjE4LjE1OS4yMjYuOTQ%3D',\n",
    "    'wcs_bt': 'b2d55758b6ea7:1652412992',\n",
    "    '_ga_8D9RGCN8FK': 'GS1.1.1652412275.8.1.1652412993.0',\n",
    "}\n",
    "\n",
    "headers = {\n",
    "    'Accept': 'application/json, text/javascript, */*; q=0.01',\n",
    "    'Accept-Language': 'ko-KR,ko;q=0.9,en-US;q=0.8,en;q=0.7',\n",
    "    'Connection': 'keep-alive',\n",
    "    'Content-Type': 'application/x-www-form-urlencoded; charset=UTF-8',\n",
    "    # Requests sorts cookies= alphabetically\n",
    "    # 'Cookie': '_ga=GA1.1.728534639.1651484630; PHPSESSID=5mldmgi9lh7rj5dj88vl4kqnu5; 2a0d2363701f23f8a75028924a3af643=MjE4LjE1OS4yMjYuOTQ%3D; wcs_bt=b2d55758b6ea7:1652412992; _ga_8D9RGCN8FK=GS1.1.1652412275.8.1.1652412993.0',\n",
    "    'Origin': 'https://www.all-con.co.kr',\n",
    "    'Referer': 'https://www.all-con.co.kr/list/contest/2/1?sortname=cl_order&sortorder=asc&stx=&sfl=',\n",
    "    'Sec-Fetch-Dest': 'empty',\n",
    "    'Sec-Fetch-Mode': 'cors',\n",
    "    'Sec-Fetch-Site': 'same-origin',\n",
    "    'User-Agent': 'Mozilla/5.0 (Windows NT 10.0; Win64; x64) AppleWebKit/537.36 (KHTML, like Gecko) Chrome/101.0.4951.64 Safari/537.36',\n",
    "    'X-Requested-With': 'XMLHttpRequest',\n",
    "    'sec-ch-ua': '\" Not A;Brand\";v=\"99\", \"Chromium\";v=\"101\", \"Google Chrome\";v=\"101\"',\n",
    "    'sec-ch-ua-mobile': '?0',\n",
    "    'sec-ch-ua-platform': '\"Windows\"',\n",
    "}\n",
    "\n",
    "data = {\n",
    "    'sortorder': 'asc',\n",
    "    'page': '1',\n",
    "    'sortname': 'cl_order',\n",
    "    'tg[]': '1',\n",
    "    'stx': '',\n",
    "    'sfl': '',\n",
    "    'rows': '15',\n",
    "    't': '2',\n",
    "}\n",
    "\n",
    "response = requests.post('https://www.all-con.co.kr/page/ajax.contest_list.php', cookies=cookies, headers=headers, data=data, verify = False)\n",
    "html = response.text\n",
    "soup = BeautifulSoup(response.content.decode('utf-8', 'replace'), 'html.parser')\n",
    "print(soup)"
   ]
  },
  {
   "cell_type": "code",
   "execution_count": null,
   "id": "distant-exhibition",
   "metadata": {},
   "outputs": [],
   "source": [
    "a_title=[]\n",
    "a_host=[]\n",
    "a_terms=[]\n",
    "a_start_bef=[]\n",
    "a_end_bef=[]\n",
    "a_qualification=[]\n",
    "a_links=[]\n",
    "a_real_links=[]\n",
    "for n in range(1,10):\n",
    "    cookies = {\n",
    "    '_ga': 'GA1.1.728534639.1651484630',\n",
    "    'PHPSESSID': '5mldmgi9lh7rj5dj88vl4kqnu5',\n",
    "    '2a0d2363701f23f8a75028924a3af643': 'MjE4LjE1OS4yMjYuOTQ%3D',\n",
    "    'wcs_bt': 'b2d55758b6ea7:1652412277',\n",
    "    '_ga_8D9RGCN8FK': 'GS1.1.1652412275.8.1.1652412345.0',\n",
    "    }\n",
    "\n",
    "    headers = {\n",
    "    'Accept': 'application/json, text/javascript, */*; q=0.01',\n",
    "    'Accept-Language': 'ko-KR,ko;q=0.9,en-US;q=0.8,en;q=0.7',\n",
    "    'Connection': 'keep-alive',\n",
    "    'Content-Type': 'application/x-www-form-urlencoded; charset=UTF-8',\n",
    "    # Requests sorts cookies= alphabetically\n",
    "    # 'Cookie': '_ga=GA1.1.728534639.1651484630; PHPSESSID=5mldmgi9lh7rj5dj88vl4kqnu5; 2a0d2363701f23f8a75028924a3af643=MjE4LjE1OS4yMjYuOTQ%3D; wcs_bt=b2d55758b6ea7:1652412277; _ga_8D9RGCN8FK=GS1.1.1652412275.8.1.1652412345.0',\n",
    "    'Origin': 'https://www.all-con.co.kr',\n",
    "    'Referer': 'https://www.all-con.co.kr/list/contest/2/2?sortname=cl_order&sortorder=asc&stx=&sfl=',\n",
    "    'Sec-Fetch-Dest': 'empty',\n",
    "    'Sec-Fetch-Mode': 'cors',\n",
    "    'Sec-Fetch-Site': 'same-origin',\n",
    "    'User-Agent': 'Mozilla/5.0 (Windows NT 10.0; Win64; x64) AppleWebKit/537.36 (KHTML, like Gecko) Chrome/101.0.4951.64 Safari/537.36',\n",
    "    'X-Requested-With': 'XMLHttpRequest',\n",
    "    'sec-ch-ua': '\" Not A;Brand\";v=\"99\", \"Chromium\";v=\"101\", \"Google Chrome\";v=\"101\"',\n",
    "    'sec-ch-ua-mobile': '?0',\n",
    "    'sec-ch-ua-platform': '\"Windows\"',\n",
    "    }\n",
    "\n",
    "    data = {\n",
    "    'sortorder': 'asc',\n",
    "    'page': str(n),\n",
    "    'sortname': 'cl_order',\n",
    "    'tg[]': '3',\n",
    "    'stx': '',\n",
    "    'sfl': '',\n",
    "    'rows': '15',\n",
    "    't': '2',\n",
    "    }\n",
    "\n",
    "    html = response.text\n",
    "    response = requests.post('https://www.all-con.co.kr/page/ajax.contest_list.php', cookies=cookies, headers=headers, data=data)\n",
    "    base_url='https://www.all-con.co.kr/list/contest/2/1?sortname=cl_order&sortorder=asc&stx=&sfl='\n",
    "    flag = False\n",
    "    webpage = urlopen(base_url,context=context)\n",
    "    soup = BeautifulSoup(base_url, 'html.parser')\n",
    "    title = soup.select('#tbl-list > tr:nth-child(1) > td.title')\n",
    "    print(title)\n",
    "    for i in range(1,15):\n",
    "        a_title.append(soup.select_one('#tbl-list > tr:nth-child('+str(i)+') > td.title > a').get_text())\n",
    "        a_host.append(soup.select('#page_board_contents > div > table > tbody > tr:nth-child('+str(i)+') > td:nth-child(3) > p')[0].get_text())\n",
    "        a_terms.append(soup.select('#page_board_contents > div > table > tbody > tr:nth-child('+str(i)+') > td.name > ul > li:nth-child(1) > p.info > span')[0].get_text())\n",
    "        a_qualification.append(soup.select('#page_board_contents > div > table > tbody > tr:nth-child('+str(i)+') > td.name > ul > li:nth-child(2) > p.info')[0].get_text())\n",
    "        a_links.append(soup.select('#page_board_contents > div > table > tbody > tr:nth-child('+str(i)+') > td.name > a')[0].get('href').lstrip('.'))"
   ]
  },
  {
   "cell_type": "code",
   "execution_count": null,
   "metadata": {},
   "outputs": [],
   "source": [
    "#tbl-list > tr:nth-child(5) > td.title > a\n",
    "#tbl-list > tr:nth-child(1) > td.title.is_star > a\n",
    "#tbl-list > tr:nth-child(1) > td.title.is_star > a"
   ]
  },
  {
   "cell_type": "code",
   "execution_count": 7,
   "id": "smoking-ghost",
   "metadata": {},
   "outputs": [],
   "source": [
    "\n",
    "a_title, a_host,a_terms ,a_qualification,a_links = parse_allcon()\n",
    "a_real_links=[]\n",
    "url2='https://www.all-con.co.kr/page'\n",
    "for a_link in a_links:\n",
    "    a=url2+a_link\n",
    "    a_real_links.append(a) "
   ]
  },
  {
   "cell_type": "code",
   "execution_count": 8,
   "id": "rural-tribe",
   "metadata": {},
   "outputs": [],
   "source": [
    "\n",
    "a_title, a_host,a_terms ,a_qualification,a_links = parse_allcon()\n",
    "a_start_bef=[]\n",
    "a_end_bef=[]\n",
    "for a_term in a_terms:\n",
    "    a_start_day,a_end_day=a_term.split(\" ~ \")\n",
    "    a_start_bef.append(a_start_day.replace('.','-'))\n",
    "    a_end_bef.append(a_end_day.replace('.','-'))"
   ]
  },
  {
   "cell_type": "code",
   "execution_count": 9,
   "id": "weighted-treatment",
   "metadata": {},
   "outputs": [],
   "source": [
    "a_title, a_host,a_terms ,a_qualification,a_links = parse_allcon()\n",
    "a_real_links = allcon_real_link()\n",
    "a_start_bef,a_end_bef=allcon_days()\n",
    "allcon_table_data_bef = {'type':\"4 대외활동\", 'qualification': \"대학(원)생\",'title': a_title, 'notice': a_start_bef,  'deadline': a_end_bef,'dday': 0, 'sponsor':a_host, 'title2': a_title,'link':a_real_links}\n",
    "df_allcon=pd.DataFrame(allcon_table_data_bef, columns=['type', 'qualification', 'title', 'notice', 'deadline','dday', 'sponsor', 'title2', 'link'])"
   ]
  }
 ],
 "metadata": {
  "interpreter": {
   "hash": "9b3d85959e6c4b3d134916c41e259dea5bccfec32db02b044911dc7b04f0df25"
  },
  "kernelspec": {
   "display_name": "Python 3.9.2 64-bit",
   "language": "python",
   "name": "python3"
  },
  "language_info": {
   "codemirror_mode": {
    "name": "ipython",
    "version": 3
   },
   "file_extension": ".py",
   "mimetype": "text/x-python",
   "name": "python",
   "nbconvert_exporter": "python",
   "pygments_lexer": "ipython3",
   "version": "3.9.2"
  }
 },
 "nbformat": 4,
 "nbformat_minor": 5
}
