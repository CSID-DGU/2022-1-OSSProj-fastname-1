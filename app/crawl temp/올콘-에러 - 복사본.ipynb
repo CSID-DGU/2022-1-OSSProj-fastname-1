{
 "cells": [
  {
   "cell_type": "code",
   "execution_count": 1,
   "id": "incorporated-spider",
   "metadata": {},
   "outputs": [],
   "source": [
    "import pandas as pd\n",
    "import numpy as np\n",
    "import csv\n",
    "\n",
    "import requests\n",
    "from bs4 import BeautifulSoup\n",
    "import re\n",
    "import urllib.request\n",
    "import time\n",
    "from time import sleep\n",
    "from urllib.request import urlopen\n",
    "\n",
    "from selenium.webdriver import Chrome\n",
    "from selenium.webdriver.chrome.options import Options\n",
    "from selenium.webdriver.common.keys import Keys\n",
    "from selenium import webdriver\n",
    "import ssl\n",
    "context=ssl._create_unverified_context()\n",
    "\n",
    "import time\n",
    "from datetime import datetime"
   ]
  },
  {
   "cell_type": "code",
   "execution_count": 2,
   "id": "aquatic-expansion",
   "metadata": {},
   "outputs": [],
   "source": [
    "import datetime\n",
    "from dateutil.parser import parse"
   ]
  },
  {
   "cell_type": "code",
   "execution_count": 3,
   "id": "distant-exhibition",
   "metadata": {},
   "outputs": [
    {
     "name": "stderr",
     "output_type": "stream",
     "text": [
      "c:\\Users\\sangh\\AppData\\Local\\Programs\\Python\\Python39\\lib\\site-packages\\bs4\\__init__.py:404: MarkupResemblesLocatorWarning: The input looks more like a URL than markup. You may want to use an HTTP client like requests to get the document behind the URL, and feed that document to Beautiful Soup.\n",
      "  warnings.warn(\n"
     ]
    },
    {
     "name": "stdout",
     "output_type": "stream",
     "text": [
      "[]\n"
     ]
    },
    {
     "ename": "AttributeError",
     "evalue": "'NoneType' object has no attribute 'get_text'",
     "output_type": "error",
     "traceback": [
      "\u001b[1;31m---------------------------------------------------------------------------\u001b[0m",
      "\u001b[1;31mAttributeError\u001b[0m                            Traceback (most recent call last)",
      "\u001b[1;32mc:\\Users\\sangh\\OneDrive\\바탕 화면\\새 폴더\\2022-1-OSSProj-fastname-1\\app\\crawl temp\\올콘-에러 - 복사본.ipynb Cell 3'\u001b[0m in \u001b[0;36m<cell line: 9>\u001b[1;34m()\u001b[0m\n\u001b[0;32m     <a href='vscode-notebook-cell:/c%3A/Users/sangh/OneDrive/%EB%B0%94%ED%83%95%20%ED%99%94%EB%A9%B4/%EC%83%88%20%ED%8F%B4%EB%8D%94/2022-1-OSSProj-fastname-1/app/crawl%20temp/%EC%98%AC%EC%BD%98-%EC%97%90%EB%9F%AC%20-%20%EB%B3%B5%EC%82%AC%EB%B3%B8.ipynb#ch0000002?line=14'>15</a>\u001b[0m \u001b[39mprint\u001b[39m(title)\n\u001b[0;32m     <a href='vscode-notebook-cell:/c%3A/Users/sangh/OneDrive/%EB%B0%94%ED%83%95%20%ED%99%94%EB%A9%B4/%EC%83%88%20%ED%8F%B4%EB%8D%94/2022-1-OSSProj-fastname-1/app/crawl%20temp/%EC%98%AC%EC%BD%98-%EC%97%90%EB%9F%AC%20-%20%EB%B3%B5%EC%82%AC%EB%B3%B8.ipynb#ch0000002?line=15'>16</a>\u001b[0m \u001b[39mfor\u001b[39;00m i \u001b[39min\u001b[39;00m \u001b[39mrange\u001b[39m(\u001b[39m1\u001b[39m,\u001b[39m15\u001b[39m):\n\u001b[1;32m---> <a href='vscode-notebook-cell:/c%3A/Users/sangh/OneDrive/%EB%B0%94%ED%83%95%20%ED%99%94%EB%A9%B4/%EC%83%88%20%ED%8F%B4%EB%8D%94/2022-1-OSSProj-fastname-1/app/crawl%20temp/%EC%98%AC%EC%BD%98-%EC%97%90%EB%9F%AC%20-%20%EB%B3%B5%EC%82%AC%EB%B3%B8.ipynb#ch0000002?line=16'>17</a>\u001b[0m     a_title\u001b[39m.\u001b[39mappend(soup\u001b[39m.\u001b[39;49mselect_one(\u001b[39m'\u001b[39;49m\u001b[39m#tbl-list > tr:nth-child(\u001b[39;49m\u001b[39m'\u001b[39;49m\u001b[39m+\u001b[39;49m\u001b[39mstr\u001b[39;49m(i)\u001b[39m+\u001b[39;49m\u001b[39m'\u001b[39;49m\u001b[39m) > td.title > a\u001b[39;49m\u001b[39m'\u001b[39;49m)\u001b[39m.\u001b[39;49mget_text())\n\u001b[0;32m     <a href='vscode-notebook-cell:/c%3A/Users/sangh/OneDrive/%EB%B0%94%ED%83%95%20%ED%99%94%EB%A9%B4/%EC%83%88%20%ED%8F%B4%EB%8D%94/2022-1-OSSProj-fastname-1/app/crawl%20temp/%EC%98%AC%EC%BD%98-%EC%97%90%EB%9F%AC%20-%20%EB%B3%B5%EC%82%AC%EB%B3%B8.ipynb#ch0000002?line=17'>18</a>\u001b[0m     a_host\u001b[39m.\u001b[39mappend(soup\u001b[39m.\u001b[39mselect(\u001b[39m'\u001b[39m\u001b[39m#page_board_contents > div > table > tbody > tr:nth-child(\u001b[39m\u001b[39m'\u001b[39m\u001b[39m+\u001b[39m\u001b[39mstr\u001b[39m(i)\u001b[39m+\u001b[39m\u001b[39m'\u001b[39m\u001b[39m) > td:nth-child(3) > p\u001b[39m\u001b[39m'\u001b[39m)[\u001b[39m0\u001b[39m]\u001b[39m.\u001b[39mget_text())\n\u001b[0;32m     <a href='vscode-notebook-cell:/c%3A/Users/sangh/OneDrive/%EB%B0%94%ED%83%95%20%ED%99%94%EB%A9%B4/%EC%83%88%20%ED%8F%B4%EB%8D%94/2022-1-OSSProj-fastname-1/app/crawl%20temp/%EC%98%AC%EC%BD%98-%EC%97%90%EB%9F%AC%20-%20%EB%B3%B5%EC%82%AC%EB%B3%B8.ipynb#ch0000002?line=18'>19</a>\u001b[0m     a_terms\u001b[39m.\u001b[39mappend(soup\u001b[39m.\u001b[39mselect(\u001b[39m'\u001b[39m\u001b[39m#page_board_contents > div > table > tbody > tr:nth-child(\u001b[39m\u001b[39m'\u001b[39m\u001b[39m+\u001b[39m\u001b[39mstr\u001b[39m(i)\u001b[39m+\u001b[39m\u001b[39m'\u001b[39m\u001b[39m) > td.name > ul > li:nth-child(1) > p.info > span\u001b[39m\u001b[39m'\u001b[39m)[\u001b[39m0\u001b[39m]\u001b[39m.\u001b[39mget_text())\n",
      "\u001b[1;31mAttributeError\u001b[0m: 'NoneType' object has no attribute 'get_text'"
     ]
    }
   ],
   "source": [
    "a_title=[]\n",
    "a_host=[]\n",
    "a_terms=[]\n",
    "a_start_bef=[]\n",
    "a_end_bef=[]\n",
    "a_qualification=[]\n",
    "a_links=[]\n",
    "a_real_links=[]\n",
    "for n in range(1,10):\n",
    "    base_url='https://www.all-con.co.kr/list/contest/2/1?sortname=cl_order&sortorder=asc&stx=&sfl='\n",
    "    flag = False\n",
    "    webpage = urlopen(base_url,context=context)\n",
    "    soup = BeautifulSoup(base_url, 'html.parser')\n",
    "    title = soup.select('#tbl-list > tr:nth-child(1) > td.title')\n",
    "    print(title)\n",
    "    for i in range(1,15):\n",
    "        a_title.append(soup.select_one('#tbl-list > tr:nth-child('+str(i)+') > td.title > a').get_text())\n",
    "        a_host.append(soup.select('#page_board_contents > div > table > tbody > tr:nth-child('+str(i)+') > td:nth-child(3) > p')[0].get_text())\n",
    "        a_terms.append(soup.select('#page_board_contents > div > table > tbody > tr:nth-child('+str(i)+') > td.name > ul > li:nth-child(1) > p.info > span')[0].get_text())\n",
    "        a_qualification.append(soup.select('#page_board_contents > div > table > tbody > tr:nth-child('+str(i)+') > td.name > ul > li:nth-child(2) > p.info')[0].get_text())\n",
    "        a_links.append(soup.select('#page_board_contents > div > table > tbody > tr:nth-child('+str(i)+') > td.name > a')[0].get('href').lstrip('.'))"
   ]
  },
  {
   "cell_type": "code",
   "execution_count": null,
   "metadata": {},
   "outputs": [],
   "source": [
    "#tbl-list > tr:nth-child(5) > td.title > a\n",
    "#tbl-list > tr:nth-child(1) > td.title.is_star > a\n",
    "#tbl-list > tr:nth-child(1) > td.title.is_star > a"
   ]
  },
  {
   "cell_type": "code",
   "execution_count": 7,
   "id": "smoking-ghost",
   "metadata": {},
   "outputs": [],
   "source": [
    "\n",
    "a_title, a_host,a_terms ,a_qualification,a_links = parse_allcon()\n",
    "a_real_links=[]\n",
    "url2='https://www.all-con.co.kr/page'\n",
    "for a_link in a_links:\n",
    "    a=url2+a_link\n",
    "    a_real_links.append(a) "
   ]
  },
  {
   "cell_type": "code",
   "execution_count": 8,
   "id": "rural-tribe",
   "metadata": {},
   "outputs": [],
   "source": [
    "\n",
    "a_title, a_host,a_terms ,a_qualification,a_links = parse_allcon()\n",
    "a_start_bef=[]\n",
    "a_end_bef=[]\n",
    "for a_term in a_terms:\n",
    "    a_start_day,a_end_day=a_term.split(\" ~ \")\n",
    "    a_start_bef.append(a_start_day.replace('.','-'))\n",
    "    a_end_bef.append(a_end_day.replace('.','-'))"
   ]
  },
  {
   "cell_type": "code",
   "execution_count": 9,
   "id": "weighted-treatment",
   "metadata": {},
   "outputs": [],
   "source": [
    "a_title, a_host,a_terms ,a_qualification,a_links = parse_allcon()\n",
    "a_real_links = allcon_real_link()\n",
    "a_start_bef,a_end_bef=allcon_days()\n",
    "allcon_table_data_bef = {'type':\"4 대외활동\", 'qualification': \"대학(원)생\",'title': a_title, 'notice': a_start_bef,  'deadline': a_end_bef,'dday': 0, 'sponsor':a_host, 'title2': a_title,'link':a_real_links}\n",
    "df_allcon=pd.DataFrame(allcon_table_data_bef, columns=['type', 'qualification', 'title', 'notice', 'deadline','dday', 'sponsor', 'title2', 'link'])"
   ]
  }
 ],
 "metadata": {
  "interpreter": {
   "hash": "9b3d85959e6c4b3d134916c41e259dea5bccfec32db02b044911dc7b04f0df25"
  },
  "kernelspec": {
   "display_name": "Python 3.9.2 64-bit",
   "language": "python",
   "name": "python3"
  },
  "language_info": {
   "codemirror_mode": {
    "name": "ipython",
    "version": 3
   },
   "file_extension": ".py",
   "mimetype": "text/x-python",
   "name": "python",
   "nbconvert_exporter": "python",
   "pygments_lexer": "ipython3",
   "version": "3.9.2"
  }
 },
 "nbformat": 4,
 "nbformat_minor": 5
}
